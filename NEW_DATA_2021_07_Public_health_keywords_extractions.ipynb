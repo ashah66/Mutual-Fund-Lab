{
 "cells": [
  {
   "cell_type": "markdown",
   "metadata": {},
   "source": [
    "\n",
    "### Steps:\n",
    "\n",
    "step 1: clean up columns by addressing abbreviations\n",
    "\n",
    "Step 2: create dataframe that contain all public health sentences\n",
    "\n",
    "Step 3: for each row, extract sentences that contain at least one keywords that belong to public health keyword lists for each sentences, put a new row into the dataframe, \n",
    "\n",
    "step 4: save the new pandas dataframe into excel file\n",
    "\n",
    "Step 5: repeat step 2, 3, and 4 for natural disaster keywords\n",
    "\n"
   ]
  },
  {
   "cell_type": "raw",
   "metadata": {},
   "source": [
    "https://github.com/ccirelli2/mutual_fund_analytics_lab_token_analysis/blob/73e08886ab681ac59903e43b62f7a06b549ba24f/notebooks/2020_01_keywords_sentences_extraction.ipynb"
   ]
  },
  {
   "cell_type": "code",
   "execution_count": 38,
   "metadata": {},
   "outputs": [],
   "source": [
    "import pandas as pd\n",
    "import re"
   ]
  },
  {
   "cell_type": "code",
   "execution_count": 39,
   "metadata": {},
   "outputs": [],
   "source": [
    "#data = pd.read_csv(r\"C:\\Users\\ysxia\\Dropbox\\Code\\MutualFund\\Data\\2021_07\\2021_07_MF_data_all_columns_year2010_2020_de_dup.csv\")\n",
    "data = pd.read_csv(r\"C:\\Users\\Akshay\\Desktop\\GSU\\GRA_MutualFUnds\\Cleaned_Data.csv\",encoding='latin1', low_memory=False)"
   ]
  },
  {
   "cell_type": "code",
   "execution_count": 40,
   "metadata": {},
   "outputs": [
    {
     "data": {
      "text/plain": [
       "(109018, 10)"
      ]
     },
     "execution_count": 40,
     "metadata": {},
     "output_type": "execute_result"
    }
   ],
   "source": [
    "data.shape"
   ]
  },
  {
   "cell_type": "code",
   "execution_count": 41,
   "metadata": {},
   "outputs": [
    {
     "data": {
      "text/html": [
       "<div>\n",
       "<style scoped>\n",
       "    .dataframe tbody tr th:only-of-type {\n",
       "        vertical-align: middle;\n",
       "    }\n",
       "\n",
       "    .dataframe tbody tr th {\n",
       "        vertical-align: top;\n",
       "    }\n",
       "\n",
       "    .dataframe thead th {\n",
       "        text-align: right;\n",
       "    }\n",
       "</style>\n",
       "<table border=\"1\" class=\"dataframe\">\n",
       "  <thead>\n",
       "    <tr style=\"text-align: right;\">\n",
       "      <th></th>\n",
       "      <th>ï»¿accession#</th>\n",
       "      <th>fund_name</th>\n",
       "      <th>filing_date</th>\n",
       "      <th>filing_year</th>\n",
       "      <th>fund_CIK</th>\n",
       "      <th>stock_series#</th>\n",
       "      <th>crsp_obj</th>\n",
       "      <th>crsp_class</th>\n",
       "      <th>principal_risks</th>\n",
       "      <th>principal_strategies</th>\n",
       "    </tr>\n",
       "  </thead>\n",
       "  <tbody>\n",
       "    <tr>\n",
       "      <th>0</th>\n",
       "      <td>0000318478-20-000025</td>\n",
       "      <td>bny mellon appreciation fund, inc.</td>\n",
       "      <td>20200514</td>\n",
       "      <td>2020</td>\n",
       "      <td>318478</td>\n",
       "      <td>s000000008</td>\n",
       "      <td>EDYG</td>\n",
       "      <td>DE</td>\n",
       "      <td>nn  an investment in the fund is not a ban...</td>\n",
       "      <td>\\n\\n  to pursue its goals, the fund normal...</td>\n",
       "    </tr>\n",
       "    <tr>\n",
       "      <th>1</th>\n",
       "      <td>0000930413-11-003179</td>\n",
       "      <td>dreyfus appreciation fund inc</td>\n",
       "      <td>27-04-2011</td>\n",
       "      <td>2011</td>\n",
       "      <td>318478</td>\n",
       "      <td>s000000008</td>\n",
       "      <td>EDYG</td>\n",
       "      <td>DE</td>\n",
       "      <td>an investment in the fund is not a bank deposi...</td>\n",
       "      <td>to pursue its goals, the fund normally invests...</td>\n",
       "    </tr>\n",
       "    <tr>\n",
       "      <th>2</th>\n",
       "      <td>0000318478-12-000007</td>\n",
       "      <td>dreyfus appreciation fund inc</td>\n",
       "      <td>27-04-2012</td>\n",
       "      <td>2012</td>\n",
       "      <td>318478</td>\n",
       "      <td>s000000008</td>\n",
       "      <td>EDYG</td>\n",
       "      <td>DE</td>\n",
       "      <td>an investment in the fund is not a bank deposi...</td>\n",
       "      <td>to pursue its goals, the fund normally invests...</td>\n",
       "    </tr>\n",
       "    <tr>\n",
       "      <th>3</th>\n",
       "      <td>0000318478-13-000011</td>\n",
       "      <td>dreyfus appreciation fund inc</td>\n",
       "      <td>29-04-2013</td>\n",
       "      <td>2013</td>\n",
       "      <td>318478</td>\n",
       "      <td>s000000008</td>\n",
       "      <td>EDYG</td>\n",
       "      <td>DE</td>\n",
       "      <td>an investment in the fund is not a bank deposi...</td>\n",
       "      <td>to pursue its goals, the fund normally invests...</td>\n",
       "    </tr>\n",
       "    <tr>\n",
       "      <th>4</th>\n",
       "      <td>0000318478-14-000011</td>\n",
       "      <td>dreyfus appreciation fund inc</td>\n",
       "      <td>29-04-2014</td>\n",
       "      <td>2014</td>\n",
       "      <td>318478</td>\n",
       "      <td>s000000008</td>\n",
       "      <td>EDYG</td>\n",
       "      <td>DE</td>\n",
       "      <td>an investment in the fund is not a bank deposi...</td>\n",
       "      <td>to pursue its goals, the fund normally invests...</td>\n",
       "    </tr>\n",
       "  </tbody>\n",
       "</table>\n",
       "</div>"
      ],
      "text/plain": [
       "          ï»¿accession#                               fund_name filing_date  \\\n",
       "0  0000318478-20-000025  bny mellon appreciation fund, inc.        20200514   \n",
       "1  0000930413-11-003179           dreyfus appreciation fund inc  27-04-2011   \n",
       "2  0000318478-12-000007           dreyfus appreciation fund inc  27-04-2012   \n",
       "3  0000318478-13-000011           dreyfus appreciation fund inc  29-04-2013   \n",
       "4  0000318478-14-000011           dreyfus appreciation fund inc  29-04-2014   \n",
       "\n",
       "   filing_year fund_CIK stock_series# crsp_obj crsp_class  \\\n",
       "0         2020   318478    s000000008     EDYG         DE   \n",
       "1         2011   318478    s000000008     EDYG         DE   \n",
       "2         2012   318478    s000000008     EDYG         DE   \n",
       "3         2013   318478    s000000008     EDYG         DE   \n",
       "4         2014   318478    s000000008     EDYG         DE   \n",
       "\n",
       "                                     principal_risks  \\\n",
       "0      nn  an investment in the fund is not a ban...   \n",
       "1  an investment in the fund is not a bank deposi...   \n",
       "2  an investment in the fund is not a bank deposi...   \n",
       "3  an investment in the fund is not a bank deposi...   \n",
       "4  an investment in the fund is not a bank deposi...   \n",
       "\n",
       "                                principal_strategies  \n",
       "0      \\n\\n  to pursue its goals, the fund normal...  \n",
       "1  to pursue its goals, the fund normally invests...  \n",
       "2  to pursue its goals, the fund normally invests...  \n",
       "3  to pursue its goals, the fund normally invests...  \n",
       "4  to pursue its goals, the fund normally invests...  "
      ]
     },
     "execution_count": 41,
     "metadata": {},
     "output_type": "execute_result"
    }
   ],
   "source": [
    "data.head()"
   ]
  },
  {
   "cell_type": "code",
   "execution_count": 42,
   "metadata": {},
   "outputs": [
    {
     "data": {
      "text/plain": [
       "2021    10869\n",
       "2019    10390\n",
       "2020    10214\n",
       "2018    10184\n",
       "2017     9990\n",
       "2016     9803\n",
       "2015     9486\n",
       "2014     9017\n",
       "2013     8531\n",
       "2012     7855\n",
       "2011     7207\n",
       "2010     5472\n",
       "Name: filing_year, dtype: int64"
      ]
     },
     "execution_count": 42,
     "metadata": {},
     "output_type": "execute_result"
    }
   ],
   "source": [
    "data['filing_year'].value_counts()"
   ]
  },
  {
   "cell_type": "code",
   "execution_count": 43,
   "metadata": {},
   "outputs": [],
   "source": [
    "data1 = data.dropna(subset=['principal_risks'])"
   ]
  },
  {
   "cell_type": "code",
   "execution_count": 44,
   "metadata": {},
   "outputs": [
    {
     "data": {
      "text/plain": [
       "2020    10214\n",
       "2018    10065\n",
       "2019    10048\n",
       "2017     9901\n",
       "2016     9739\n",
       "2015     9434\n",
       "2014     8976\n",
       "2021     8633\n",
       "2013     8507\n",
       "2012     7848\n",
       "2011     7205\n",
       "2010     5472\n",
       "Name: filing_year, dtype: int64"
      ]
     },
     "execution_count": 44,
     "metadata": {},
     "output_type": "execute_result"
    }
   ],
   "source": [
    "data1['filing_year'].value_counts()"
   ]
  },
  {
   "cell_type": "code",
   "execution_count": 45,
   "metadata": {},
   "outputs": [
    {
     "name": "stderr",
     "output_type": "stream",
     "text": [
      "C:\\Users\\Akshay\\anaconda3\\lib\\site-packages\\pandas\\core\\frame.py:5034: SettingWithCopyWarning: \n",
      "A value is trying to be set on a copy of a slice from a DataFrame\n",
      "\n",
      "See the caveats in the documentation: https://pandas.pydata.org/pandas-docs/stable/user_guide/indexing.html#returning-a-view-versus-a-copy\n",
      "  return super().rename(\n"
     ]
    },
    {
     "data": {
      "text/html": [
       "<div>\n",
       "<style scoped>\n",
       "    .dataframe tbody tr th:only-of-type {\n",
       "        vertical-align: middle;\n",
       "    }\n",
       "\n",
       "    .dataframe tbody tr th {\n",
       "        vertical-align: top;\n",
       "    }\n",
       "\n",
       "    .dataframe thead th {\n",
       "        text-align: right;\n",
       "    }\n",
       "</style>\n",
       "<table border=\"1\" class=\"dataframe\">\n",
       "  <thead>\n",
       "    <tr style=\"text-align: right;\">\n",
       "      <th></th>\n",
       "      <th>accession#</th>\n",
       "      <th>fund_name</th>\n",
       "      <th>filing_date</th>\n",
       "      <th>filing_year</th>\n",
       "      <th>fund_CIK</th>\n",
       "      <th>stock_series#</th>\n",
       "      <th>crsp_obj</th>\n",
       "      <th>crsp_class</th>\n",
       "      <th>principal_risks</th>\n",
       "      <th>principal_strategies</th>\n",
       "    </tr>\n",
       "  </thead>\n",
       "  <tbody>\n",
       "    <tr>\n",
       "      <th>0</th>\n",
       "      <td>0000318478-20-000025</td>\n",
       "      <td>bny mellon appreciation fund, inc.</td>\n",
       "      <td>20200514</td>\n",
       "      <td>2020</td>\n",
       "      <td>318478</td>\n",
       "      <td>s000000008</td>\n",
       "      <td>EDYG</td>\n",
       "      <td>DE</td>\n",
       "      <td>nn  an investment in the fund is not a ban...</td>\n",
       "      <td>\\n\\n  to pursue its goals, the fund normal...</td>\n",
       "    </tr>\n",
       "    <tr>\n",
       "      <th>1</th>\n",
       "      <td>0000930413-11-003179</td>\n",
       "      <td>dreyfus appreciation fund inc</td>\n",
       "      <td>27-04-2011</td>\n",
       "      <td>2011</td>\n",
       "      <td>318478</td>\n",
       "      <td>s000000008</td>\n",
       "      <td>EDYG</td>\n",
       "      <td>DE</td>\n",
       "      <td>an investment in the fund is not a bank deposi...</td>\n",
       "      <td>to pursue its goals, the fund normally invests...</td>\n",
       "    </tr>\n",
       "    <tr>\n",
       "      <th>2</th>\n",
       "      <td>0000318478-12-000007</td>\n",
       "      <td>dreyfus appreciation fund inc</td>\n",
       "      <td>27-04-2012</td>\n",
       "      <td>2012</td>\n",
       "      <td>318478</td>\n",
       "      <td>s000000008</td>\n",
       "      <td>EDYG</td>\n",
       "      <td>DE</td>\n",
       "      <td>an investment in the fund is not a bank deposi...</td>\n",
       "      <td>to pursue its goals, the fund normally invests...</td>\n",
       "    </tr>\n",
       "    <tr>\n",
       "      <th>3</th>\n",
       "      <td>0000318478-13-000011</td>\n",
       "      <td>dreyfus appreciation fund inc</td>\n",
       "      <td>29-04-2013</td>\n",
       "      <td>2013</td>\n",
       "      <td>318478</td>\n",
       "      <td>s000000008</td>\n",
       "      <td>EDYG</td>\n",
       "      <td>DE</td>\n",
       "      <td>an investment in the fund is not a bank deposi...</td>\n",
       "      <td>to pursue its goals, the fund normally invests...</td>\n",
       "    </tr>\n",
       "    <tr>\n",
       "      <th>4</th>\n",
       "      <td>0000318478-14-000011</td>\n",
       "      <td>dreyfus appreciation fund inc</td>\n",
       "      <td>29-04-2014</td>\n",
       "      <td>2014</td>\n",
       "      <td>318478</td>\n",
       "      <td>s000000008</td>\n",
       "      <td>EDYG</td>\n",
       "      <td>DE</td>\n",
       "      <td>an investment in the fund is not a bank deposi...</td>\n",
       "      <td>to pursue its goals, the fund normally invests...</td>\n",
       "    </tr>\n",
       "  </tbody>\n",
       "</table>\n",
       "</div>"
      ],
      "text/plain": [
       "             accession#                               fund_name filing_date  \\\n",
       "0  0000318478-20-000025  bny mellon appreciation fund, inc.        20200514   \n",
       "1  0000930413-11-003179           dreyfus appreciation fund inc  27-04-2011   \n",
       "2  0000318478-12-000007           dreyfus appreciation fund inc  27-04-2012   \n",
       "3  0000318478-13-000011           dreyfus appreciation fund inc  29-04-2013   \n",
       "4  0000318478-14-000011           dreyfus appreciation fund inc  29-04-2014   \n",
       "\n",
       "   filing_year fund_CIK stock_series# crsp_obj crsp_class  \\\n",
       "0         2020   318478    s000000008     EDYG         DE   \n",
       "1         2011   318478    s000000008     EDYG         DE   \n",
       "2         2012   318478    s000000008     EDYG         DE   \n",
       "3         2013   318478    s000000008     EDYG         DE   \n",
       "4         2014   318478    s000000008     EDYG         DE   \n",
       "\n",
       "                                     principal_risks  \\\n",
       "0      nn  an investment in the fund is not a ban...   \n",
       "1  an investment in the fund is not a bank deposi...   \n",
       "2  an investment in the fund is not a bank deposi...   \n",
       "3  an investment in the fund is not a bank deposi...   \n",
       "4  an investment in the fund is not a bank deposi...   \n",
       "\n",
       "                                principal_strategies  \n",
       "0      \\n\\n  to pursue its goals, the fund normal...  \n",
       "1  to pursue its goals, the fund normally invests...  \n",
       "2  to pursue its goals, the fund normally invests...  \n",
       "3  to pursue its goals, the fund normally invests...  \n",
       "4  to pursue its goals, the fund normally invests...  "
      ]
     },
     "execution_count": 45,
     "metadata": {},
     "output_type": "execute_result"
    }
   ],
   "source": [
    "data1.rename(columns={\"ï»¿accession#\": \"accession#\"}, inplace=True)\n",
    "data1.head()"
   ]
  },
  {
   "cell_type": "markdown",
   "metadata": {},
   "source": [
    "### Extract Sentences"
   ]
  },
  {
   "cell_type": "code",
   "execution_count": 46,
   "metadata": {},
   "outputs": [],
   "source": [
    "abbreviations = {'dr.': 'doctor', 'mr.': 'mister', 'bro.': 'brother', 'bro': 'brother', 'mrs.': 'mistress', 'ms.': 'miss', 'jr.': 'junior', 'sr.': 'senior',\n",
    "                 'e.g.': 'for example', 'vs.': 'versus', 'U.S.': 'United States','etc.': 'etcetera', 'J.P.': 'Justice of the Peace',\n",
    "                 'Inc.': 'Incorporated', 'LLC.': 'limited liability corporation', 'Co.': 'company', 'l.p.': 'limited partneship',\n",
    "                 'ltd.': 'limited', 'Jan.': 'January', 'Feb.': 'February', 'Mar.': 'March', 'Apr.': 'April', 'i.e.': 'for example',\n",
    "                 'Jun.': 'June', 'Jul.': 'July', 'Aug.': 'August', 'Oct.': 'October', 'Dec.': 'December', 'S.E.C.': 'SEC', 'Inv. Co. Act': 'Investment Company Act'}\n",
    "terminators = ['.', '!', '?']\n",
    "wrappers = ['\"', \"'\", ')', ']', '}']"
   ]
  },
  {
   "cell_type": "code",
   "execution_count": 47,
   "metadata": {},
   "outputs": [],
   "source": [
    "def find_all(a_str, sub):\n",
    "    start = 0\n",
    "    while True:\n",
    "        start = a_str.find(sub, start)\n",
    "        if start == -1:\n",
    "            return\n",
    "        yield start\n",
    "        start += len(sub)"
   ]
  },
  {
   "cell_type": "code",
   "execution_count": 48,
   "metadata": {},
   "outputs": [],
   "source": [
    "def find_sentence_end(paragraph):\n",
    "    [possible_endings, contraction_locations] = [[], []]\n",
    "    contractions = abbreviations.keys()\n",
    "    sentence_terminators = terminators + [terminator + wrapper for wrapper in wrappers for terminator in terminators]\n",
    "    for sentence_terminator in sentence_terminators:\n",
    "        t_indices = list(find_all(paragraph, sentence_terminator))\n",
    "        possible_endings.extend(([] if not len(t_indices) else [[i, len(sentence_terminator)] for i in t_indices]))\n",
    "    for contraction in contractions:\n",
    "        c_indices = list(find_all(paragraph, contraction))\n",
    "        contraction_locations.extend(([] if not len(c_indices) else [i + len(contraction) for i in c_indices]))\n",
    "    possible_endings = [pe for pe in possible_endings if pe[0] + pe[1] not in contraction_locations]\n",
    "    if len(paragraph) in [pe[0] + pe[1] for pe in possible_endings]:\n",
    "        max_end_start = max([pe[0] for pe in possible_endings])\n",
    "        possible_endings = [pe for pe in possible_endings if pe[0] != max_end_start]\n",
    "    possible_endings = [pe[0] + pe[1] for pe in possible_endings if sum(pe) > len(paragraph) or (sum(pe) < len(paragraph) and paragraph[sum(pe)] == ' ')]\n",
    "    end = (-1 if not len(possible_endings) else max(possible_endings))\n",
    "    return end"
   ]
  },
  {
   "cell_type": "code",
   "execution_count": 49,
   "metadata": {},
   "outputs": [],
   "source": [
    "def find_sentences(paragraph):\n",
    "    replacingList = [[\"?\", \"? \"], [\"!\", \"! \"],[\".\", \". \"],[\"(\", \" \"], [\")\", \" \"], [\",\", \" \"], [\"i. e.\", \"i.e\"], \n",
    "                     [\"e. g.\", \"e.g.\"],[\"U. S.\", \"U.S.\"], [\"J. P.\", \"J.P.\"], [\"l. p.\", \"l.p.\"], \n",
    "                     [\"S. E. C.\", \"S.E.C.\"]]\n",
    "    for items in replacingList:\n",
    "        paragraph = paragraph.replace(items[0], items[1])\n",
    "    paragraph = re.sub(' +', ' ', paragraph)\n",
    "    if paragraph != \"\":\n",
    "        if paragraph[0] == '?' or paragraph[0] == '.' or paragraph[0] == '!':\n",
    "            paragraph = paragraph[1:]\n",
    "    end = True\n",
    "    sentences = []\n",
    "    while end > -1:\n",
    "        end = find_sentence_end(paragraph)\n",
    "        if end > -1:\n",
    "            sentences.append(paragraph[end:].strip())\n",
    "            paragraph = paragraph[:end]\n",
    "    sentences.append(paragraph)\n",
    "    sentences.reverse()\n",
    "    return sentences"
   ]
  },
  {
   "cell_type": "markdown",
   "metadata": {},
   "source": [
    "### input paragraphs, then split into sentences by using the above function find_sentences()"
   ]
  },
  {
   "cell_type": "code",
   "execution_count": 50,
   "metadata": {},
   "outputs": [
    {
     "name": "stderr",
     "output_type": "stream",
     "text": [
      "<ipython-input-50-0f9802f0c64e>:1: SettingWithCopyWarning: \n",
      "A value is trying to be set on a copy of a slice from a DataFrame.\n",
      "Try using .loc[row_indexer,col_indexer] = value instead\n",
      "\n",
      "See the caveats in the documentation: https://pandas.pydata.org/pandas-docs/stable/user_guide/indexing.html#returning-a-view-versus-a-copy\n",
      "  data1['cleaned_principal_risks']= \"\"\n",
      "C:\\Users\\Akshay\\anaconda3\\lib\\site-packages\\pandas\\core\\indexing.py:1732: SettingWithCopyWarning: \n",
      "A value is trying to be set on a copy of a slice from a DataFrame\n",
      "\n",
      "See the caveats in the documentation: https://pandas.pydata.org/pandas-docs/stable/user_guide/indexing.html#returning-a-view-versus-a-copy\n",
      "  self._setitem_single_block(indexer, value, name)\n"
     ]
    },
    {
     "name": "stdout",
     "output_type": "stream",
     "text": [
      "processing row:  0\n",
      "processing row:  5000\n",
      "processing row:  10000\n",
      "processing row:  15000\n",
      "processing row:  20000\n",
      "processing row:  25000\n",
      "processing row:  30000\n",
      "processing row:  35000\n",
      "processing row:  40000\n",
      "processing row:  45000\n",
      "processing row:  50000\n",
      "processing row:  55000\n",
      "processing row:  60000\n",
      "processing row:  65000\n",
      "processing row:  70000\n",
      "processing row:  75000\n",
      "processing row:  80000\n",
      "processing row:  85000\n",
      "processing row:  90000\n",
      "processing row:  95000\n",
      "processing row:  100000\n",
      "processing row:  105000\n"
     ]
    }
   ],
   "source": [
    "data1['cleaned_principal_risks']= \"\"\n",
    "for row in range(len(data1)):\n",
    "    if row %5000 == 0:\n",
    "        print (\"processing row: \", row)\n",
    "    para = data1['principal_risks'].iloc[row]\n",
    "    sents = find_sentences(para)\n",
    "    data1['cleaned_principal_risks'].iloc[row] = sents"
   ]
  },
  {
   "cell_type": "code",
   "execution_count": 51,
   "metadata": {},
   "outputs": [
    {
     "data": {
      "text/plain": [
       "(106042, 11)"
      ]
     },
     "execution_count": 51,
     "metadata": {},
     "output_type": "execute_result"
    }
   ],
   "source": [
    "data1.shape"
   ]
  },
  {
   "cell_type": "code",
   "execution_count": 52,
   "metadata": {},
   "outputs": [
    {
     "data": {
      "text/html": [
       "<div>\n",
       "<style scoped>\n",
       "    .dataframe tbody tr th:only-of-type {\n",
       "        vertical-align: middle;\n",
       "    }\n",
       "\n",
       "    .dataframe tbody tr th {\n",
       "        vertical-align: top;\n",
       "    }\n",
       "\n",
       "    .dataframe thead th {\n",
       "        text-align: right;\n",
       "    }\n",
       "</style>\n",
       "<table border=\"1\" class=\"dataframe\">\n",
       "  <thead>\n",
       "    <tr style=\"text-align: right;\">\n",
       "      <th></th>\n",
       "      <th>accession#</th>\n",
       "      <th>fund_name</th>\n",
       "      <th>filing_date</th>\n",
       "      <th>filing_year</th>\n",
       "      <th>fund_CIK</th>\n",
       "      <th>stock_series#</th>\n",
       "      <th>crsp_obj</th>\n",
       "      <th>crsp_class</th>\n",
       "      <th>principal_risks</th>\n",
       "      <th>principal_strategies</th>\n",
       "      <th>cleaned_principal_risks</th>\n",
       "    </tr>\n",
       "  </thead>\n",
       "  <tbody>\n",
       "    <tr>\n",
       "      <th>0</th>\n",
       "      <td>0000318478-20-000025</td>\n",
       "      <td>bny mellon appreciation fund, inc.</td>\n",
       "      <td>20200514</td>\n",
       "      <td>2020</td>\n",
       "      <td>318478</td>\n",
       "      <td>s000000008</td>\n",
       "      <td>EDYG</td>\n",
       "      <td>DE</td>\n",
       "      <td>nn  an investment in the fund is not a ban...</td>\n",
       "      <td>\\n\\n  to pursue its goals, the fund normal...</td>\n",
       "      <td>[ nn an investment in the fund is not a bank d...</td>\n",
       "    </tr>\n",
       "  </tbody>\n",
       "</table>\n",
       "</div>"
      ],
      "text/plain": [
       "             accession#                               fund_name filing_date  \\\n",
       "0  0000318478-20-000025  bny mellon appreciation fund, inc.        20200514   \n",
       "\n",
       "   filing_year fund_CIK stock_series# crsp_obj crsp_class  \\\n",
       "0         2020   318478    s000000008     EDYG         DE   \n",
       "\n",
       "                                     principal_risks  \\\n",
       "0      nn  an investment in the fund is not a ban...   \n",
       "\n",
       "                                principal_strategies  \\\n",
       "0      \\n\\n  to pursue its goals, the fund normal...   \n",
       "\n",
       "                             cleaned_principal_risks  \n",
       "0  [ nn an investment in the fund is not a bank d...  "
      ]
     },
     "execution_count": 52,
     "metadata": {},
     "output_type": "execute_result"
    }
   ],
   "source": [
    "data1.head(1)"
   ]
  },
  {
   "cell_type": "code",
   "execution_count": 57,
   "metadata": {},
   "outputs": [
    {
     "data": {
      "text/plain": [
       "list"
      ]
     },
     "execution_count": 57,
     "metadata": {},
     "output_type": "execute_result"
    }
   ],
   "source": [
    "type(data1['cleaned_principal_risks'].iloc[0])"
   ]
  },
  {
   "cell_type": "code",
   "execution_count": 58,
   "metadata": {},
   "outputs": [],
   "source": [
    "data1.to_csv('2021_07_principal_risks_cleaned_non_dedup.csv')"
   ]
  },
  {
   "cell_type": "markdown",
   "metadata": {},
   "source": [
    "### Public Health Keywords to Search Sentences that Contain one or multiple of these keywords"
   ]
  },
  {
   "cell_type": "code",
   "execution_count": 59,
   "metadata": {},
   "outputs": [],
   "source": [
    "# Public Health keywords: \n",
    "ph_word = ['communicable diseases','health crises','pandemic','respiratory','illness','prevention','epidemic',\n",
    "           'coronavirus','health crisis','pandemics','sanitation','global health crises',\n",
    "           'covid','health screenings','pathogens','sars','global health crisis',\n",
    "           'covid 19','hiv','preparedness','sars cov 2','epidemics','disease','influenza',\n",
    "           'public health','virus','global health','diseases','mers','quarantines','h1n1','viruses']\n",
    "\n",
    "ph_word = [ 'communicable   diseases',         \n",
    "            'coronavirus',                          \n",
    "            'covid','covid 19',                     \n",
    "            'disease',                              \n",
    "            'epidemic',                             \n",
    "            'global health',                        \n",
    "            'global health crisis',                 \n",
    "            'health crises',                        \n",
    "            'health crisis' ,                       \n",
    "            'health screenings' ,                   \n",
    "            'hiv' ,                                 \n",
    "            'influenza', 'h1n1',                     \n",
    "            'pandemic','epidemic',             \n",
    "            'pathogens',                            \n",
    "            'prevention',                           \n",
    "            'public health',                        \n",
    "            'quarantines',                          \n",
    "            'respiratory illness',                  \n",
    "            'sanitation',                           \n",
    "            'sars', 'sars cov 2', 'mers',        \n",
    "            'virus']                                \n"
   ]
  },
  {
   "cell_type": "code",
   "execution_count": 60,
   "metadata": {},
   "outputs": [
    {
     "data": {
      "text/plain": [
       "Index(['accession#', 'fund_name', 'filing_date', 'filing_year', 'fund_CIK',\n",
       "       'stock_series#', 'crsp_obj', 'crsp_class', 'principal_risks',\n",
       "       'principal_strategies', 'cleaned_principal_risks'],\n",
       "      dtype='object')"
      ]
     },
     "execution_count": 60,
     "metadata": {},
     "output_type": "execute_result"
    }
   ],
   "source": [
    "data1.columns"
   ]
  },
  {
   "cell_type": "code",
   "execution_count": 61,
   "metadata": {},
   "outputs": [
    {
     "name": "stdout",
     "output_type": "stream",
     "text": [
      "processing row:  0\n",
      "processing row:  5000\n",
      "processing row:  10000\n",
      "processing row:  15000\n",
      "processing row:  20000\n",
      "processing row:  25000\n",
      "processing row:  30000\n",
      "processing row:  35000\n",
      "processing row:  40000\n",
      "processing row:  45000\n",
      "processing row:  50000\n",
      "processing row:  55000\n",
      "processing row:  60000\n",
      "processing row:  65000\n",
      "processing row:  70000\n",
      "processing row:  75000\n",
      "processing row:  80000\n",
      "processing row:  85000\n",
      "processing row:  90000\n",
      "processing row:  95000\n",
      "processing row:  100000\n",
      "processing row:  105000\n"
     ]
    }
   ],
   "source": [
    "import os\n",
    "import pandas as pd\n",
    "import glob\n",
    "import nltk.data\n",
    "import re\n",
    "#from nltk.tokenize import tokenizer\n",
    "from nltk.tokenize import word_tokenize\n",
    "from nltk.tokenize import sent_tokenize\n",
    "from nltk.tokenize.punkt import PunktSentenceTokenizer, PunktParameters, PunktTrainer\n",
    "\n",
    "pubic_health = pd.DataFrame()\n",
    "ph_sents = []\n",
    "for row in range(len(data1)):\n",
    "    if row %5000 == 0:\n",
    "        print (\"processing row: \", row)\n",
    "    sentences = data1['cleaned_principal_risks'].iloc[row]\n",
    "    for i in range(len(sentences)):\n",
    "        for word in ph_word:\n",
    "            tokens = sentences[i].lower().split()\n",
    "            if word in tokens:\n",
    "                ph_sents.append([data1['accession#'].iloc[row],\n",
    "                                 data1['filing_year'].iloc[row],\n",
    "                                 data1['fund_name'].iloc[row],\n",
    "                                 sentences[i]])\n",
    "        \n",
    "        \n",
    "        #pubic_health = pubic_health.append({'accession#':data1['accession#'].iloc[row],\n",
    "        #                                    'filing_year':data1['filing_year'].iloc[row],\n",
    "        #                                    'fund_name':data1['fund_name'].iloc[row],                                                    \n",
    "        #                                    'sentences':sentences[i]},ignore_index=True)\n",
    "                                            #'sentences':re.sub(' +', ' ',\" \".join(sentences[i]).replace('\\n',' '))},ignore_index=True)\n",
    "pubic_health = pd.DataFrame(ph_sents, columns =['accession#',\n",
    "                                                'filing_year',\n",
    "                                                'fund_name', \n",
    "                                                'sentences'])               "
   ]
  },
  {
   "cell_type": "code",
   "execution_count": 62,
   "metadata": {},
   "outputs": [
    {
     "data": {
      "text/plain": [
       "(16055, 4)"
      ]
     },
     "execution_count": 62,
     "metadata": {},
     "output_type": "execute_result"
    }
   ],
   "source": [
    "pubic_health.shape"
   ]
  },
  {
   "cell_type": "code",
   "execution_count": 63,
   "metadata": {},
   "outputs": [
    {
     "data": {
      "text/html": [
       "<div>\n",
       "<style scoped>\n",
       "    .dataframe tbody tr th:only-of-type {\n",
       "        vertical-align: middle;\n",
       "    }\n",
       "\n",
       "    .dataframe tbody tr th {\n",
       "        vertical-align: top;\n",
       "    }\n",
       "\n",
       "    .dataframe thead th {\n",
       "        text-align: right;\n",
       "    }\n",
       "</style>\n",
       "<table border=\"1\" class=\"dataframe\">\n",
       "  <thead>\n",
       "    <tr style=\"text-align: right;\">\n",
       "      <th></th>\n",
       "      <th>accession#</th>\n",
       "      <th>filing_year</th>\n",
       "      <th>fund_name</th>\n",
       "      <th>sentences</th>\n",
       "    </tr>\n",
       "  </thead>\n",
       "  <tbody>\n",
       "    <tr>\n",
       "      <th>0</th>\n",
       "      <td>0000318478-20-000025</td>\n",
       "      <td>2020</td>\n",
       "      <td>bny mellon appreciation fund, inc.</td>\n",
       "      <td>recent examples include pandemic risks related...</td>\n",
       "    </tr>\n",
       "    <tr>\n",
       "      <th>1</th>\n",
       "      <td>0000318478-20-000025</td>\n",
       "      <td>2020</td>\n",
       "      <td>bny mellon appreciation fund, inc.</td>\n",
       "      <td>recent examples include pandemic risks related...</td>\n",
       "    </tr>\n",
       "    <tr>\n",
       "      <th>2</th>\n",
       "      <td>0000885409-20-000004</td>\n",
       "      <td>2020</td>\n",
       "      <td>dreyfus basic money market fund, inc</td>\n",
       "      <td>recent examples include pandemic risks related...</td>\n",
       "    </tr>\n",
       "    <tr>\n",
       "      <th>3</th>\n",
       "      <td>0000885409-20-000004</td>\n",
       "      <td>2020</td>\n",
       "      <td>dreyfus basic money market fund, inc</td>\n",
       "      <td>recent examples include pandemic risks related...</td>\n",
       "    </tr>\n",
       "    <tr>\n",
       "      <th>4</th>\n",
       "      <td>0000075176-20-000010</td>\n",
       "      <td>2020</td>\n",
       "      <td>bny mellon municipal bond fund</td>\n",
       "      <td>primarily in response to the covid-19 pandemic...</td>\n",
       "    </tr>\n",
       "  </tbody>\n",
       "</table>\n",
       "</div>"
      ],
      "text/plain": [
       "             accession#  filing_year  \\\n",
       "0  0000318478-20-000025         2020   \n",
       "1  0000318478-20-000025         2020   \n",
       "2  0000885409-20-000004         2020   \n",
       "3  0000885409-20-000004         2020   \n",
       "4  0000075176-20-000010         2020   \n",
       "\n",
       "                                  fund_name  \\\n",
       "0    bny mellon appreciation fund, inc.       \n",
       "1    bny mellon appreciation fund, inc.       \n",
       "2  dreyfus basic money market fund, inc       \n",
       "3  dreyfus basic money market fund, inc       \n",
       "4        bny mellon municipal bond fund       \n",
       "\n",
       "                                           sentences  \n",
       "0  recent examples include pandemic risks related...  \n",
       "1  recent examples include pandemic risks related...  \n",
       "2  recent examples include pandemic risks related...  \n",
       "3  recent examples include pandemic risks related...  \n",
       "4  primarily in response to the covid-19 pandemic...  "
      ]
     },
     "execution_count": 63,
     "metadata": {},
     "output_type": "execute_result"
    }
   ],
   "source": [
    "pubic_health.head()"
   ]
  },
  {
   "cell_type": "code",
   "execution_count": 64,
   "metadata": {},
   "outputs": [
    {
     "data": {
      "text/plain": [
       "2020    8933\n",
       "2021    5319\n",
       "2017     272\n",
       "2016     247\n",
       "2018     243\n",
       "2015     237\n",
       "2019     209\n",
       "2014     177\n",
       "2012     126\n",
       "2013     126\n",
       "2011     110\n",
       "2010      56\n",
       "Name: filing_year, dtype: int64"
      ]
     },
     "execution_count": 64,
     "metadata": {},
     "output_type": "execute_result"
    }
   ],
   "source": [
    "pubic_health['filing_year'].value_counts()"
   ]
  },
  {
   "cell_type": "code",
   "execution_count": 65,
   "metadata": {},
   "outputs": [],
   "source": [
    "pubic_health.to_excel(\"2021_07_public_health_keywords_sentences_dedup.xlsx\")"
   ]
  },
  {
   "cell_type": "code",
   "execution_count": 66,
   "metadata": {},
   "outputs": [],
   "source": [
    " nd_word = [ 'cyclones',                   \n",
    "             'death',                      \n",
    "             'drought',                    \n",
    "             'earthquakes',                \n",
    "             'environmental damage',       \n",
    "             'cloud',                      \n",
    "             'disaster',                   \n",
    "             'droughts',                   \n",
    "             'earthquake',                 \n",
    "             'fire',                       \n",
    "             'flood',                      \n",
    "             'hurricane',                  \n",
    "             'hurricanes',                 \n",
    "             'lightning',                  \n",
    "             'natural disaster',           \n",
    "             'natural disasters',          \n",
    "             'seismic',                    \n",
    "             'storms',                     \n",
    "             'tornadoes',                  \n",
    "             'tsunami',                    \n",
    "             'underground',                \n",
    "             'volcanoes',                  \n",
    "             'windstorms']\n"
   ]
  },
  {
   "cell_type": "code",
   "execution_count": 67,
   "metadata": {},
   "outputs": [
    {
     "name": "stdout",
     "output_type": "stream",
     "text": [
      "processing row:  0\n",
      "processing row:  5000\n",
      "processing row:  10000\n",
      "processing row:  15000\n",
      "processing row:  20000\n",
      "processing row:  25000\n",
      "processing row:  30000\n",
      "processing row:  35000\n",
      "processing row:  40000\n",
      "processing row:  45000\n",
      "processing row:  50000\n",
      "processing row:  55000\n",
      "processing row:  60000\n",
      "processing row:  65000\n",
      "processing row:  70000\n",
      "processing row:  75000\n",
      "processing row:  80000\n",
      "processing row:  85000\n",
      "processing row:  90000\n",
      "processing row:  95000\n",
      "processing row:  100000\n",
      "processing row:  105000\n"
     ]
    }
   ],
   "source": [
    "nd_sents = []\n",
    "for row in range(len(data1)):\n",
    "    if row %5000 == 0:\n",
    "        print (\"processing row: \", row)\n",
    "    sentences = data1['cleaned_principal_risks'].iloc[row]\n",
    "    for i in range(len(sentences)):\n",
    "        for word in nd_word:\n",
    "            tokens = sentences[i].lower().split()\n",
    "            if word in tokens:\n",
    "                nd_sents.append([data1['accession#'].iloc[row],\n",
    "                                 data1['filing_year'].iloc[row],\n",
    "                                 data1['fund_name'].iloc[row],\n",
    "                                 sentences[i]])\n",
    "        \n",
    "        \n",
    "        #pubic_health = pubic_health.append({'accession#':data1['accession#'].iloc[row],\n",
    "        #                                    'filing_year':data1['filing_year'].iloc[row],\n",
    "        #                                    'fund_name':data1['fund_name'].iloc[row],                                                    \n",
    "        #                                    'sentences':sentences[i]},ignore_index=True)\n",
    "                                            #'sentences':re.sub(' +', ' ',\" \".join(sentences[i]).replace('\\n',' '))},ignore_index=True)\n",
    "natural_disaster = pd.DataFrame(nd_sents, columns =['accession#',\n",
    "                                                'filing_year',\n",
    "                                                'fund_name', \n",
    "                                                'sentences'])   "
   ]
  },
  {
   "cell_type": "code",
   "execution_count": 68,
   "metadata": {},
   "outputs": [
    {
     "data": {
      "text/plain": [
       "(9162, 4)"
      ]
     },
     "execution_count": 68,
     "metadata": {},
     "output_type": "execute_result"
    }
   ],
   "source": [
    "natural_disaster.shape"
   ]
  },
  {
   "cell_type": "code",
   "execution_count": 69,
   "metadata": {},
   "outputs": [
    {
     "data": {
      "text/plain": [
       "2020    2077\n",
       "2018     978\n",
       "2019     972\n",
       "2017     894\n",
       "2016     826\n",
       "2015     782\n",
       "2021     638\n",
       "2014     591\n",
       "2013     510\n",
       "2012     449\n",
       "2011     301\n",
       "2010     144\n",
       "Name: filing_year, dtype: int64"
      ]
     },
     "execution_count": 69,
     "metadata": {},
     "output_type": "execute_result"
    }
   ],
   "source": [
    "natural_disaster['filing_year'].value_counts()"
   ]
  },
  {
   "cell_type": "code",
   "execution_count": 70,
   "metadata": {},
   "outputs": [],
   "source": [
    "natural_disaster.to_excel(\"2021_07_natural_disaster_keywords_sentences_dedup.xlsx\")"
   ]
  },
  {
   "cell_type": "code",
   "execution_count": 72,
   "metadata": {},
   "outputs": [],
   "source": [
    "pubic_health_non_dedup = pd.read_excel('2021_07_public_health_keywords_sentences_dedup.xlsx')"
   ]
  },
  {
   "cell_type": "code",
   "execution_count": 73,
   "metadata": {},
   "outputs": [
    {
     "data": {
      "text/html": [
       "<div>\n",
       "<style scoped>\n",
       "    .dataframe tbody tr th:only-of-type {\n",
       "        vertical-align: middle;\n",
       "    }\n",
       "\n",
       "    .dataframe tbody tr th {\n",
       "        vertical-align: top;\n",
       "    }\n",
       "\n",
       "    .dataframe thead th {\n",
       "        text-align: right;\n",
       "    }\n",
       "</style>\n",
       "<table border=\"1\" class=\"dataframe\">\n",
       "  <thead>\n",
       "    <tr style=\"text-align: right;\">\n",
       "      <th></th>\n",
       "      <th>Unnamed: 0</th>\n",
       "      <th>accession#</th>\n",
       "      <th>filing_year</th>\n",
       "      <th>fund_name</th>\n",
       "      <th>sentences</th>\n",
       "    </tr>\n",
       "  </thead>\n",
       "  <tbody>\n",
       "    <tr>\n",
       "      <th>0</th>\n",
       "      <td>0</td>\n",
       "      <td>0000318478-20-000025</td>\n",
       "      <td>2020</td>\n",
       "      <td>bny mellon appreciation fund, inc.</td>\n",
       "      <td>recent examples include pandemic risks related...</td>\n",
       "    </tr>\n",
       "    <tr>\n",
       "      <th>1</th>\n",
       "      <td>1</td>\n",
       "      <td>0000318478-20-000025</td>\n",
       "      <td>2020</td>\n",
       "      <td>bny mellon appreciation fund, inc.</td>\n",
       "      <td>recent examples include pandemic risks related...</td>\n",
       "    </tr>\n",
       "  </tbody>\n",
       "</table>\n",
       "</div>"
      ],
      "text/plain": [
       "   Unnamed: 0            accession#  filing_year  \\\n",
       "0           0  0000318478-20-000025         2020   \n",
       "1           1  0000318478-20-000025         2020   \n",
       "\n",
       "                                fund_name  \\\n",
       "0  bny mellon appreciation fund, inc.       \n",
       "1  bny mellon appreciation fund, inc.       \n",
       "\n",
       "                                           sentences  \n",
       "0  recent examples include pandemic risks related...  \n",
       "1  recent examples include pandemic risks related...  "
      ]
     },
     "execution_count": 73,
     "metadata": {},
     "output_type": "execute_result"
    }
   ],
   "source": [
    "pubic_health_non_dedup.head(2)"
   ]
  },
  {
   "cell_type": "code",
   "execution_count": 74,
   "metadata": {},
   "outputs": [
    {
     "data": {
      "text/plain": [
       "2020    8933\n",
       "2021    5319\n",
       "2017     272\n",
       "2016     247\n",
       "2018     243\n",
       "2015     237\n",
       "2019     209\n",
       "2014     177\n",
       "2012     126\n",
       "2013     126\n",
       "2011     110\n",
       "2010      56\n",
       "Name: filing_year, dtype: int64"
      ]
     },
     "execution_count": 74,
     "metadata": {},
     "output_type": "execute_result"
    }
   ],
   "source": [
    "pubic_health_non_dedup['filing_year'].value_counts()"
   ]
  },
  {
   "cell_type": "code",
   "execution_count": null,
   "metadata": {},
   "outputs": [],
   "source": []
  }
 ],
 "metadata": {
  "kernelspec": {
   "display_name": "Python 3",
   "language": "python",
   "name": "python3"
  },
  "language_info": {
   "codemirror_mode": {
    "name": "ipython",
    "version": 3
   },
   "file_extension": ".py",
   "mimetype": "text/x-python",
   "name": "python",
   "nbconvert_exporter": "python",
   "pygments_lexer": "ipython3",
   "version": "3.8.5"
  }
 },
 "nbformat": 4,
 "nbformat_minor": 4
}
